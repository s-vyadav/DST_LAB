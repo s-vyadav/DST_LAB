{
  "nbformat": 4,
  "nbformat_minor": 0,
  "metadata": {
    "colab": {
      "provenance": []
    },
    "kernelspec": {
      "name": "python3",
      "display_name": "Python 3"
    },
    "language_info": {
      "name": "python"
    }
  },
  "cells": [
    {
      "cell_type": "code",
      "execution_count": null,
      "metadata": {
        "colab": {
          "base_uri": "https://localhost:8080/"
        },
        "id": "EHkN9wAX7C4T",
        "outputId": "ec374f4c-2d4f-44b0-d5e2-345225ee6c25"
      },
      "outputs": [
        {
          "output_type": "stream",
          "name": "stdout",
          "text": [
            "10\n",
            "20\n",
            "40\n",
            "5\n",
            "50\n"
          ]
        }
      ],
      "source": [
        "class Node:\n",
        "  def __init__(self,data):\n",
        "    self.data=data\n",
        "    self.ref=None\n",
        "\n",
        "node1=Node(10)\n",
        "\n",
        "class LinkedList:\n",
        "\n",
        "  def __init__(self):\n",
        "    self.head=None #User cannot input address\n",
        "\n",
        "  def printList(self):\n",
        "    if self.head is None:\n",
        "      print(\"Linked list is empty\")\n",
        "    else:\n",
        "      n=self.head #n is temp var\n",
        "      while n is not None:\n",
        "        print(n.data)\n",
        "        n=n.ref\n",
        "\n",
        "  def addBegin(self,data):\n",
        "    new_node=Node(data)\n",
        "    new_node.ref=self.head\n",
        "    self.head=new_node\n",
        "\n",
        "  def addEnd(self,data):\n",
        "    new_node=Node(data)\n",
        "    if self.head is None:\n",
        "      self.head=new_node\n",
        "    else:\n",
        "      n=self.head\n",
        "      while n.ref is not None:\n",
        "        n=n.ref\n",
        "      n.ref=new_node\n",
        "\n",
        "  def addAfter(self,data,x):\n",
        "    n=self.head\n",
        "    while n is not None:\n",
        "      if n.data==data:\n",
        "        break\n",
        "      n=n.ref\n",
        "    if n is None:\n",
        "      print(\"Node is not present at the given Linked List\")\n",
        "    else:\n",
        "      new_node=Node(x)\n",
        "      new_node.ref=n.ref\n",
        "      n.ref=new_node\n",
        "\n",
        "  def delAfter(self,x):\n",
        "    if self.head is None:\n",
        "      print(\"Cannot delete from empty LL\")\n",
        "    elif self.head is None:\n",
        "      if self.head.data==x:\n",
        "        self.head=None\n",
        "      else:\n",
        "        print(\"Node not found\")\n",
        "    else:\n",
        "      n=self.head\n",
        "      while n is not None:\n",
        "        if n.data==x:\n",
        "          break\n",
        "        n=n.ref\n",
        "      if n is None:\n",
        "        print(\"Node not found\")\n",
        "      else:\n",
        "        n.ref=n.ref.ref\n",
        "\n",
        "  def delBegin(self):\n",
        "    if self.head is None:\n",
        "      print(\"Cannot delete from empty linked list\")\n",
        "    else:\n",
        "      self.head=self.head.ref\n",
        "\n",
        "  def delEnd(self):\n",
        "    if self.head is None:\n",
        "      print(\"Cannot delete from empty linked list\")\n",
        "    else:\n",
        "      n=self.head\n",
        "      while n.ref.ref is not None:\n",
        "        n=n.ref\n",
        "      n.ref=None\n",
        "\n",
        "\n",
        "LL=LinkedList()\n",
        "LL.addBegin(40)\n",
        "LL.addBegin(30)\n",
        "LL.addBegin(20)\n",
        "LL.addBegin(10)\n",
        "LL.addEnd(50)\n",
        "LL.addAfter(40,5)\n",
        "LL.delAfter(20)\n",
        "LL.printList()\n"
      ]
    },
    {
      "cell_type": "code",
      "source": [],
      "metadata": {
        "id": "U2wLwnSo8USd"
      },
      "execution_count": null,
      "outputs": []
    }
  ]
}