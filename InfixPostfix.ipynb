{
  "nbformat": 4,
  "nbformat_minor": 0,
  "metadata": {
    "colab": {
      "provenance": []
    },
    "kernelspec": {
      "name": "python3",
      "display_name": "Python 3"
    },
    "language_info": {
      "name": "python"
    }
  },
  "cells": [
    {
      "cell_type": "code",
      "execution_count": null,
      "metadata": {
        "colab": {
          "base_uri": "https://localhost:8080/"
        },
        "id": "mR5hh-JaizUJ",
        "outputId": "688ec357-4743-4808-8096-acc54eb13f01"
      },
      "outputs": [
        {
          "output_type": "stream",
          "name": "stdout",
          "text": [
            "Enter the infix expression sepaated by a space: 1 + 7 * 5 - 3\n",
            " 175*3-+\n"
          ]
        }
      ],
      "source": [
        "def precedence(a):\n",
        "  if a=='+' or a=='-':\n",
        "    return 1\n",
        "  if a=='*' or a=='/':\n",
        "    return 2\n",
        "\n",
        "a=list(input(\"Enter the infix expression sepaated by a space: \").split(\" \"))\n",
        "postfix=\" \"\n",
        "opstack=[]\n",
        "for i in a:\n",
        "  if i in [\"+\",\"-\",\"*\",\"/\"]:\n",
        "    if ((len(opstack)==0)or (precedence(i)>precedence(opstack[-1]))):\n",
        "      opstack.append(i)\n",
        "    else:\n",
        "      postfix+=opstack.pop()\n",
        "      opstack.append(i)\n",
        "  elif i==\" \":\n",
        "    continue\n",
        "  else:\n",
        "    postfix+=i\n",
        "while(len(opstack)!=0):\n",
        "  postfix+=opstack.pop()\n",
        "print(postfix)"
      ]
    },
    {
      "cell_type": "code",
      "source": [
        "a=list(input(\"Enter the postfix expression: \").split(\" \"))\n",
        "stack=[]\n",
        "for i in a:\n",
        "  if len(stack)==1 and i==a[-1]:\n",
        "    stack[0]=-stack[0]\n",
        "    break\n",
        "  if (i in [\"+\",\"-\",\"*\",\"/\"]):\n",
        "    b=stack.pop()\n",
        "    c=stack.pop()\n",
        "    if i==\"+\":\n",
        "      stack.append(c+b)\n",
        "    elif i==\"-\":\n",
        "      stack.append(c-b)\n",
        "    elif i==\"*\":\n",
        "      stack.append(c*b)\n",
        "    elif i==\"/\":\n",
        "      stack.append(c/b)\n",
        "  elif i == \" \":\n",
        "    continue\n",
        "  else:\n",
        "    stack.append(int(i))\n",
        "\n",
        "print(\"The result of the expression: \",stack[0])"
      ],
      "metadata": {
        "colab": {
          "base_uri": "https://localhost:8080/"
        },
        "id": "ksSYDrORkrxH",
        "outputId": "92bf3946-99c4-4701-9561-aac9e51a7003"
      },
      "execution_count": null,
      "outputs": [
        {
          "output_type": "stream",
          "name": "stdout",
          "text": [
            "Enter the postfix expression: 2 3 +\n",
            "The result of the expression:  5\n"
          ]
        }
      ]
    },
    {
      "cell_type": "code",
      "source": [],
      "metadata": {
        "id": "3Qhd1otEl_tA"
      },
      "execution_count": null,
      "outputs": []
    }
  ]
}