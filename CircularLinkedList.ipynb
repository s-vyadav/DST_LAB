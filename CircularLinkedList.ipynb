{
  "nbformat": 4,
  "nbformat_minor": 0,
  "metadata": {
    "colab": {
      "provenance": []
    },
    "kernelspec": {
      "name": "python3",
      "display_name": "Python 3"
    },
    "language_info": {
      "name": "python"
    }
  },
  "cells": [
    {
      "cell_type": "code",
      "source": [
        "class Node:\n",
        "\tdef __init__(self, data):\n",
        "\t\tself.data = data\n",
        "\t\tself.next = None\n",
        "\n",
        "\n",
        "def push(head, data):\n",
        "\tnewP = Node(data)\n",
        "\tnewP.next = head\n",
        "\tif head != None:\n",
        "\t\ttemp = head\n",
        "\t\twhile (temp.next != head):\n",
        "\t\t\ttemp = temp.next\n",
        "\t\ttemp.next = newP\n",
        "\telse:\n",
        "\t\tnewP.next = newP\n",
        "\thead = newP\n",
        "\treturn head\n",
        "\n",
        "\n",
        "def printList(head):\n",
        "\tif head == None:\n",
        "\t\tprint(\"List is Empty\")\n",
        "\t\treturn\n",
        "\ttemp = head.next\n",
        "\tprint(head.data, end=' ')\n",
        "\tif (head != None):\n",
        "\t\twhile (temp != head):\n",
        "\t\t\tprint(temp.data, end=\" \")\n",
        "\t\t\ttemp = temp.next\n",
        "\tprint()\n",
        "\n",
        "def deleteNode(head,x):\n",
        "  if head is None:\n",
        "    print(\"List is empty\")\n",
        "    return\n",
        "  elif head.data==x:\n",
        "    n=head\n",
        "    while n.next is not head:\n",
        "      n=n.next\n",
        "    if head == head.next:\n",
        "      head=None\n",
        "    else:\n",
        "      n.next=head.next\n",
        "      head=head.next\n",
        "  else:\n",
        "    n=head\n",
        "    pref=None\n",
        "    while n.next is not head:\n",
        "      pref=n\n",
        "      n=n.next\n",
        "      if n.data==x:\n",
        "        pref.next=n.next\n",
        "        pref=None\n",
        "        return\n",
        "\n",
        "head = None\n",
        "head = push(head, 2)\n",
        "head = push(head, 5)\n",
        "head = push(head, 7)\n",
        "head = push(head, 8)\n",
        "head = push(head, 10)\n",
        "\n",
        "print(\"List Before Deletion: \")\n",
        "printList(head)\n",
        "\n",
        "deleteNode(head, 8)\n",
        "print(\"List After Deletion: \")\n",
        "printList(head)\n"
      ],
      "metadata": {
        "id": "WIE5_cVJT4q5",
        "colab": {
          "base_uri": "https://localhost:8080/"
        },
        "outputId": "489372cb-66ba-4e51-fb52-7e52cace2f28"
      },
      "execution_count": null,
      "outputs": [
        {
          "output_type": "stream",
          "name": "stdout",
          "text": [
            "List Before Deletion: \n",
            "10 8 7 5 2 \n",
            "List After Deletion: \n",
            "10 7 5 2 \n"
          ]
        }
      ]
    },
    {
      "cell_type": "code",
      "source": [],
      "metadata": {
        "id": "JLR2O6L0DYlZ"
      },
      "execution_count": null,
      "outputs": []
    }
  ]
}